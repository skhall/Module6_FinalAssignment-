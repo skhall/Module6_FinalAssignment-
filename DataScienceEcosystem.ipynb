{
 "cells": [
  {
   "cell_type": "markdown",
   "id": "e393c9d8-969e-4243-9c06-21a4bec5af37",
   "metadata": {},
   "source": [
    "<center>\n",
    "    <img src=\"https://cf-courses-data.s3.us.cloud-object-storage.appdomain.cloud/IBMDeveloperSkillsNetwork-DS0105EN-SkillsNetwork/labs/Module2/images/SN_web_lightmode.png\" width=\"300\" alt=\"cognitiveclass.ai logo\">\n",
    "</center>"
   ]
  },
  {
   "cell_type": "markdown",
   "id": "59ecd184-34c6-40ff-9cbe-114814480c9c",
   "metadata": {},
   "source": [
    "#### Add your code below following the instructions given in the course"
   ]
  },
  {
   "cell_type": "raw",
   "id": "7a5f9925-b3f1-4440-a4c6-e9da96331077",
   "metadata": {},
   "source": [
    "#Exercise 2: Create markdown cell with title of the notebook"
   ]
  },
  {
   "cell_type": "markdown",
   "id": "d3f203cd-c84c-45f9-be42-eb6255a10744",
   "metadata": {},
   "source": [
    "\n",
    "# Data Science Tools and Ecosystem\n"
   ]
  },
  {
   "cell_type": "raw",
   "id": "08c647c6-537f-40cf-b593-0797f53a61b4",
   "metadata": {},
   "source": [
    "# Exercise 3 - Create a markdown cell for an introduction"
   ]
  },
  {
   "cell_type": "markdown",
   "id": "1f3686da-bc95-4b09-9712-86332829ed2a",
   "metadata": {},
   "source": [
    "In this notebook, Data Science Tools and Ecosystem are summarized."
   ]
  },
  {
   "cell_type": "raw",
   "id": "af42bf55-41bd-4fc6-8d1b-f621254cb475",
   "metadata": {},
   "source": [
    "# Exercise 10 - Insert a markdown cell to list Objectives"
   ]
  },
  {
   "cell_type": "markdown",
   "id": "f78058d7-c963-421c-a42a-7f8cf6539f34",
   "metadata": {},
   "source": [
    "**Objectives:** \n",
    "* Create a Jupyter notebook\n",
    "* Create a markdown cell to display a string\n",
    "* Create a markdown cell to create a numbered list and bulleted list\n",
    "* Create a markdown cell with a table\n",
    "* Create a markdown cell using different headings\n",
    "* Create a markdown cell using bold font\n",
    "* Create code to multiply, divide, and add numbers"
   ]
  },
  {
   "cell_type": "raw",
   "id": "dc1a8b1e-2636-4117-afac-4a92dee6f380",
   "metadata": {},
   "source": [
    "# Exercise 4 - Create a markdown cell to list data science languages"
   ]
  },
  {
   "cell_type": "markdown",
   "id": "2f10f2b5-0da8-4774-9be2-7f1689f15086",
   "metadata": {},
   "source": [
    "Some of the popular languages that Data Scientists use are:\n",
    "1. Python\n",
    "2. R\n",
    "3. SQL\n",
    "4. Scala\n",
    "5. Java\n",
    "6. C++\n",
    "7. Julia"
   ]
  },
  {
   "cell_type": "raw",
   "id": "88350dd9-4102-437f-9967-481b734d805f",
   "metadata": {},
   "source": [
    "# Exercise 5 - Create a markdown cell to list data science libraries"
   ]
  },
  {
   "cell_type": "markdown",
   "id": "8b97d251-33f8-4b38-be7f-bb51c5de4bea",
   "metadata": {},
   "source": [
    "Some of the commonly used libraries used by Data Scientists include:\n",
    "1. Python\n",
    "2. Pandas\n",
    "3. NumPy\n",
    "4. Matplotlib\n",
    "5. Scikit-learn\n",
    "6. ggplot2"
   ]
  },
  {
   "cell_type": "raw",
   "id": "574630a6-ecac-4f48-aa32-9373d0566d43",
   "metadata": {},
   "source": [
    "\n",
    "# Exercise 6 - Create a markdown cell with a table of Data Science tools"
   ]
  },
  {
   "cell_type": "markdown",
   "id": "4f65d7ae-f235-40ce-83e5-4e823bf4324e",
   "metadata": {},
   "source": [
    "|Data Science Tools|\n",
    "|------------------|\n",
    "|Jupyter Notebooks|\n",
    "|RStudio|\n",
    "|VisualStudio Code (VS Code)|"
   ]
  },
  {
   "cell_type": "raw",
   "id": "f1bcaa20-fd78-4a32-8e0f-c5580d7f6708",
   "metadata": {},
   "source": [
    "# Exercise 7 - Create a markdown cell introducing arithmetic expression examples"
   ]
  },
  {
   "cell_type": "markdown",
   "id": "fdb7dc25-34c6-4b7f-888d-a9ab8cb1c899",
   "metadata": {},
   "source": [
    "### Below are a few examples of evaluating arithmetic expressions in Python."
   ]
  },
  {
   "cell_type": "raw",
   "id": "5cc77eb2-29bc-4904-977e-d20c8a7be08d",
   "metadata": {},
   "source": [
    "# Exercise 8 - Create a code cell to multiply and add numbers"
   ]
  },
  {
   "cell_type": "code",
   "execution_count": 7,
   "id": "3ab0ebf5-3daf-42f2-bb33-07c9ed34770d",
   "metadata": {},
   "outputs": [
    {
     "data": {
      "text/plain": [
       "17"
      ]
     },
     "execution_count": 7,
     "metadata": {},
     "output_type": "execute_result"
    }
   ],
   "source": [
    "#This a simple arithmetic expression to mutiply then add integers.\n",
    "(3*4)+5"
   ]
  },
  {
   "cell_type": "raw",
   "id": "2c18d1db-1bc7-44ce-be60-e824da074145",
   "metadata": {},
   "source": [
    "# Exercise 9 - Create a code cell to convert minutes to hours"
   ]
  },
  {
   "cell_type": "code",
   "execution_count": 8,
   "id": "76a1e8a1-9d78-4d17-b301-4963023b1b76",
   "metadata": {},
   "outputs": [
    {
     "data": {
      "text/plain": [
       "3.3333333333333335"
      ]
     },
     "execution_count": 8,
     "metadata": {},
     "output_type": "execute_result"
    }
   ],
   "source": [
    "# This will convert 200 minutes to hours by diving by 60.\n",
    "200/60"
   ]
  },
  {
   "cell_type": "raw",
   "id": "3b90b411-87ed-4d22-812a-655b0992b8d4",
   "metadata": {},
   "source": [
    "# Exercise 11 - Create a markdown cell to indicate the Author's name"
   ]
  },
  {
   "cell_type": "markdown",
   "id": "73d92e57-16c4-49e0-9efc-7e4f624c25ad",
   "metadata": {},
   "source": [
    "## Author\n",
    "Salina Hall"
   ]
  },
  {
   "cell_type": "raw",
   "id": "3003ed4b-5a48-4e5e-ae26-f6c765d5afcc",
   "metadata": {},
   "source": [
    "# Exercise 12 - Share your notebook through GitHub"
   ]
  },
  {
   "cell_type": "markdown",
   "id": "d0917f98-59e6-41af-8d60-82248c342b54",
   "metadata": {},
   "source": [
    "https://github.com/skhall/Module6_FinalAssignment-/blob/main/DataScienceEcosystem.ipynb"
   ]
  }
 ],
 "metadata": {
  "kernelspec": {
   "display_name": "Python 3 (ipykernel)",
   "language": "python",
   "name": "python3"
  },
  "language_info": {
   "codemirror_mode": {
    "name": "ipython",
    "version": 3
   },
   "file_extension": ".py",
   "mimetype": "text/x-python",
   "name": "python",
   "nbconvert_exporter": "python",
   "pygments_lexer": "ipython3",
   "version": "3.12.9"
  }
 },
 "nbformat": 4,
 "nbformat_minor": 5
}
